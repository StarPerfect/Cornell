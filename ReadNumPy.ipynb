{
 "cells": [
  {
   "cell_type": "markdown",
   "metadata": {
    "nbgrader": {
     "grade": false,
     "grade_id": "cell-59e2f4992d7e3fc3",
     "locked": true,
     "schema_version": 3,
     "solution": false,
     "task": false
    }
   },
   "source": [
    "## Reading NumPy Arrays"
   ]
  },
  {
   "cell_type": "markdown",
   "metadata": {
    "nbgrader": {
     "grade": false,
     "grade_id": "cell-38dd623ed9afb194",
     "locked": true,
     "schema_version": 3,
     "solution": false,
     "task": false
    }
   },
   "source": [
    "NumPy provides various ways of reading arrays from files, whether they are written as ASCII text (\"plain text\") or in a specialized binary format.  Related functions provide the ability to write arrays out to files.  We'll examine a few of those functions here. (For a NumPy array refresher, consult the <a href= \"https://ecornell.s3.amazonaws.com/content/CAC/CAC105/cac105_numpy-array-tip-sheet.pdf\">NumPy Array Tip Sheet</a>.)\n",
    "\n",
    "First, let's look in our current working directory to see what data files we might have to work with.  Jupyter notebooks provide a capability for executing commands in the shell, or command line, external to the notebook, by beginning a command with the \"!\" character (exclamation point, or \"bang\").  The Linux command \"ls\" lists the contents in the current directory.  We can execute this command from within the notebook by entering and evaluating the expression ```!ls```.  (You could also list the contents of the directory with the ```%ls``` magic function, but since we'll be issuing a few additional commands below that don't have magic function equivalents, we might as well use the \"!\" notation for all of them.)\n",
    "\n",
    "### Step 1.\n",
    "\n",
    "Execute the expression in the code cell below and evaluate the results. You will see the name of a data file (with .txt suffix)."
   ]
  },
  {
   "cell_type": "code",
   "execution_count": 1,
   "metadata": {
    "nbgrader": {
     "grade": false,
     "grade_id": "cell-53a086e2a3be1b8d",
     "locked": true,
     "schema_version": 3,
     "solution": false,
     "task": false
    }
   },
   "outputs": [
    {
     "name": "stdout",
     "output_type": "stream",
     "text": [
      "data.txt  gradebook.db\tjn.py  __pycache__  ReadNumPy.ipynb  readNumpy.png\r\n"
     ]
    }
   ],
   "source": [
    "!ls"
   ]
  },
  {
   "cell_type": "markdown",
   "metadata": {
    "nbgrader": {
     "grade": false,
     "grade_id": "cell-4069fb02cc9df115",
     "locked": true,
     "schema_version": 3,
     "solution": false,
     "task": false
    }
   },
   "source": [
    "Notice that there is a data file named ```data.txt```.  Using the ```head``` command in Linux, we can print out the first 10 lines of the file to see what it consists of.\n",
    "\n",
    "### Step 2.\n",
    "\n",
    "Enter and execute ```!head data.txt``` in the code cell below."
   ]
  },
  {
   "cell_type": "code",
   "execution_count": 2,
   "metadata": {
    "nbgrader": {
     "grade": false,
     "grade_id": "cell-d50f317bad5fde78",
     "locked": true,
     "schema_version": 3,
     "solution": false,
     "task": false
    }
   },
   "outputs": [
    {
     "name": "stdout",
     "output_type": "stream",
     "text": [
      "52 119\r\n",
      "53 119\r\n",
      "54 119\r\n",
      "55 119\r\n",
      "56 119\r\n",
      "57 119\r\n",
      "58 119\r\n",
      "59 119\r\n",
      "60 119\r\n",
      "61 119\r\n"
     ]
    }
   ],
   "source": [
    "!head data.txt"
   ]
  },
  {
   "cell_type": "markdown",
   "metadata": {
    "nbgrader": {
     "grade": false,
     "grade_id": "cell-9f350e9c97f6cd37",
     "locked": true,
     "schema_version": 3,
     "solution": false,
     "task": false
    }
   },
   "source": [
    "It looks like the file contains a pair of integers on each row, which is something that we could read into a NumPy array.  Before doing so, we might want to figure out how many lines are in the file (since if it is a ridiculously large number, we might want to think twice about reading it all in).  The ```wc -l``` command in Linux (\"wc -l\" is short for \"word count -lines\", i.e., it returns the number of lines in a file).\n",
    "\n",
    "### Step 3.\n",
    "\n",
    "Enter and execute ```!wc -l data.txt``` in the code cell below, to see how many lines it has."
   ]
  },
  {
   "cell_type": "code",
   "execution_count": 3,
   "metadata": {
    "nbgrader": {
     "grade": false,
     "grade_id": "cell-278481b14e22c382",
     "locked": true,
     "schema_version": 3,
     "solution": false,
     "task": false
    }
   },
   "outputs": [
    {
     "name": "stdout",
     "output_type": "stream",
     "text": [
      "3569 data.txt\r\n"
     ]
    }
   ],
   "source": [
    "!wc -l data.txt"
   ]
  },
  {
   "cell_type": "markdown",
   "metadata": {
    "nbgrader": {
     "grade": false,
     "grade_id": "cell-c4b77d58e4e3e2dd",
     "locked": true,
     "schema_version": 3,
     "solution": false,
     "task": false
    }
   },
   "source": [
    "The file is not too big, so let's go ahead and read it in.\n",
    "\n",
    "First, you'll need to ```import numpy as np``` in order to access that module.  Then you will want to use the ```np.loadtxt``` function in order to read in the data that is stored in the plain text file ```data.txt```.\n",
    "\n",
    "```np.loadtxt``` requires at least one argument, which is the name of the file that you want to read in.  The filename is passed as a Python string, for example, <code>\"data.txt\"</code>.\n",
    "\n",
    "### Step 4.\n",
    "\n",
    "Enter and evaluate an expression to read in the contents of the data file and assign it to the variable ```data```."
   ]
  },
  {
   "cell_type": "code",
   "execution_count": 7,
   "metadata": {
    "nbgrader": {
     "grade": false,
     "grade_id": "cell-importNp",
     "locked": true,
     "schema_version": 1,
     "solution": false,
     "task": false
    }
   },
   "outputs": [],
   "source": [
    "import numpy as np\n",
    "data = np.loadtxt('data.txt')"
   ]
  },
  {
   "cell_type": "markdown",
   "metadata": {
    "nbgrader": {
     "grade": false,
     "grade_id": "cell-748077e60cbac510",
     "locked": true,
     "schema_version": 3,
     "solution": false,
     "task": false
    }
   },
   "source": [
    "### Step 5.\n",
    "\n",
    "Let's examine some basic attributes of the data array.  In the code cell below, print both the ```shape``` and the ```dtype``` attributes of the array ```data```."
   ]
  },
  {
   "cell_type": "code",
   "execution_count": 8,
   "metadata": {
    "nbgrader": {
     "grade": false,
     "grade_id": "cell-e1465edf800cf969",
     "locked": true,
     "schema_version": 3,
     "solution": false,
     "task": false
    }
   },
   "outputs": [
    {
     "name": "stdout",
     "output_type": "stream",
     "text": [
      "(3569, 2) float64\n"
     ]
    }
   ],
   "source": [
    "print(data.shape, data.dtype)"
   ]
  },
  {
   "cell_type": "markdown",
   "metadata": {
    "nbgrader": {
     "grade": false,
     "grade_id": "cell-55248e4bec0816d5",
     "locked": true,
     "schema_version": 3,
     "solution": false,
     "task": false
    }
   },
   "source": [
    "By default, the ```dtype``` of arrays read in via ```np.loadtxt``` is ```float64``` (floating point numbers).  When we peeked at the data file above using the ```head``` command, it looked like the data might contain all integer (int) values.  We can refine our call to ```np.loadtxt``` to tell it to read in the data as ```dtype=int``` instead, by supplying that as an additional option to the function call.\n",
    "\n",
    "### Step 6.\n",
    "\n",
    "In the code cell below, enter and evaluate a revised version of your call to ```np.loadtxt```, supplying an additional option to read in the data as integers, and assign the result to the variable ```data```.  Verify afterwards that the ```dtype``` of ```data``` is now int64 (64-bit integers, or int)."
   ]
  },
  {
   "cell_type": "markdown",
   "metadata": {
    "nbgrader": {
     "grade": false,
     "grade_id": "cell-2b325714f9819b1e",
     "locked": true,
     "schema_version": 1,
     "solution": false
    }
   },
   "source": [
    "## Graded Cell\n",
    "\n",
    "This cell is worth 30% of the grade for this assignment."
   ]
  },
  {
   "cell_type": "code",
   "execution_count": 12,
   "metadata": {
    "nbgrader": {
     "grade": false,
     "grade_id": "cell-ee46536d576baebf",
     "locked": true,
     "schema_version": 1,
     "solution": false
    }
   },
   "outputs": [
    {
     "name": "stdout",
     "output_type": "stream",
     "text": [
      "int64\n"
     ]
    },
    {
     "data": {
      "text/plain": [
       "True"
      ]
     },
     "execution_count": 12,
     "metadata": {},
     "output_type": "execute_result"
    }
   ],
   "source": [
    "# YOUR CODE HERE\n",
    "data = np.loadtxt('data.txt', dtype=int)\n",
    "print(data.dtype)\n",
    "data.dtype == int"
   ]
  },
  {
   "cell_type": "markdown",
   "metadata": {
    "nbgrader": {
     "grade": false,
     "grade_id": "cell-91ca9d7c4f30f4fe",
     "locked": true,
     "schema_version": 1,
     "solution": false
    }
   },
   "source": [
    "## Self-Check\n",
    "\n",
    "Run the cell below to test the correctness of your code above before submitting for grading."
   ]
  },
  {
   "cell_type": "code",
   "execution_count": 13,
   "metadata": {
    "nbgrader": {
     "grade": false,
     "grade_id": "cell-testtype",
     "locked": true,
     "schema_version": 1,
     "solution": false,
     "task": false
    }
   },
   "outputs": [
    {
     "name": "stdout",
     "output_type": "stream",
     "text": [
      "Correct!\n"
     ]
    }
   ],
   "source": [
    "# Run this self-test cell to check your code; do not add code or delete code in this cell\n",
    "from jn import testType\n",
    "\n",
    "try:\n",
    "    print(testType(data))    \n",
    "except Exception as e:\n",
    "    print(\"Error!\\n\" + str(e))\n",
    "    "
   ]
  },
  {
   "cell_type": "markdown",
   "metadata": {
    "nbgrader": {
     "grade": false,
     "grade_id": "cell-dd86faf1c80b6eef",
     "locked": true,
     "schema_version": 3,
     "solution": false,
     "task": false
    }
   },
   "source": [
    "Even though we have read the data in, we don't really know anything about it other than its type and its shape (3569 rows by 2 columns).\n",
    "\n",
    "### Step 7.\n",
    "\n",
    "In the code cell below -- recalling that the `axis` parameter can be passed to methods and functions, in order to operate over a specified dimension of an array (for example: `axis=0`, `axis=1` )-- do the following:\n",
    "\n",
    "* write an expression to compute the minimum value in each column, using the ```min``` method of an array, and assign the result to the variable ```minvals```, which should be an array containing two elements (one for each column)\n",
    "* write an expression to compute the maximum value in each column, using the ```max``` method of an array, and assign the result to the variable ```maxvals```, which should be an array containing two elements (one for each column)\n",
    "* print the values of ```minvals``` and ```maxvals``` so you can examine the range of the data"
   ]
  },
  {
   "cell_type": "markdown",
   "metadata": {
    "nbgrader": {
     "grade": false,
     "grade_id": "cell-2b325714f9819b1e",
     "locked": true,
     "schema_version": 1,
     "solution": false
    }
   },
   "source": [
    "## Graded Cell\n",
    "\n",
    "This cell is worth 30% of the grade for this assignment."
   ]
  },
  {
   "cell_type": "code",
   "execution_count": null,
   "metadata": {
    "nbgrader": {
     "grade": false,
     "grade_id": "cell-minimax",
     "locked": true,
     "schema_version": 1,
     "solution": false,
     "task": false
    }
   },
   "outputs": [],
   "source": [
    "# YOUR CODE HERE"
   ]
  },
  {
   "cell_type": "markdown",
   "metadata": {
    "nbgrader": {
     "grade": false,
     "grade_id": "cell-279d5842e6d7461f",
     "locked": true,
     "schema_version": 1,
     "solution": false
    }
   },
   "source": [
    "## Self-Check\n",
    "\n",
    "Run the cell below to test the correctness of your code above before submitting for grading."
   ]
  },
  {
   "cell_type": "code",
   "execution_count": null,
   "metadata": {
    "nbgrader": {
     "grade": false,
     "grade_id": "cell-testminmax",
     "locked": true,
     "schema_version": 1,
     "solution": false,
     "task": false
    }
   },
   "outputs": [],
   "source": [
    "# Run this self-test cell to check your code; do not add code or delete code in this cell\n",
    "from jn import testMinvals, testMaxvals\n",
    "\n",
    "try:\n",
    "    print(testMinvals(minvals))\n",
    "except Exception as e:\n",
    "    print(\"Error!\\n\" + str(e))\n",
    "\n",
    "try:\n",
    "    print(testMaxvals(maxvals))\n",
    "except Exception as e:\n",
    "    print(\"Error!\\n\" + str(e))\n"
   ]
  },
  {
   "cell_type": "markdown",
   "metadata": {
    "nbgrader": {
     "grade": false,
     "grade_id": "cell-23e8465de3f28233",
     "locked": true,
     "schema_version": 3,
     "solution": false,
     "task": false
    }
   },
   "source": [
    "Sometimes it is useful to plot some new data you are working with, to get a sense of what it looks like.  Since the array consists of two columns, it might be helpful to plot one column against the other, i.e., treat one column as \"x\" data and the other as associated \"y\" data.\n",
    "\n",
    "### Step 8.\n",
    "\n",
    "In the code cell below, fill in the missing code (denoted as ```___```) so that you can plot the first column of the array on the x-axis, and the second column of the array on the y-axis.  (Recall that we are plotting columns, which is why we first slice over all rows in the first index with ```:``` ; recall also how we start counting when we are indexing into an array or list.)  The code below also specifies a square figure size, since we know from our examination above about ```minvals``` and ```maxvals``` that the range of the data is the same in each dimension."
   ]
  },
  {
   "cell_type": "code",
   "execution_count": null,
   "metadata": {
    "nbgrader": {
     "grade": false,
     "grade_id": "cell-ec07e8a69a273be4",
     "locked": true,
     "schema_version": 1,
     "solution": false
    }
   },
   "outputs": [],
   "source": [
    "import matplotlib.pyplot as plt\n",
    "%matplotlib inline\n",
    "plt.figure(figsize=(8,8))\n",
    "plt.plot(data[:,___], data[:,___])\n"
   ]
  },
  {
   "cell_type": "markdown",
   "metadata": {
    "nbgrader": {
     "grade": false,
     "grade_id": "cell-622c42e7adff64d5",
     "locked": true,
     "schema_version": 3,
     "solution": false,
     "task": false
    }
   },
   "source": [
    "That plot is not particularly informative.  It looks like the data points are criss-crossing back and forth across the plane, making it hard to discern a pattern.  In such a case, a scatter plot is sometimes useful.\n",
    "\n",
    "### Step 9.\n",
    "\n",
    "In the code cell below, fill in the missing code to make a scatter plot of the two columns in the data.  (A few extra plotting options have been added to improve the resulting figure.)"
   ]
  },
  {
   "cell_type": "markdown",
   "metadata": {
    "nbgrader": {
     "grade": false,
     "grade_id": "cell-5f8e5d07d298e916",
     "locked": true,
     "schema_version": 1,
     "solution": false
    }
   },
   "source": [
    "## Graded Cell\n",
    "\n",
    "This cell is worth 40% of the grade for this assignment. <i>Note: a self-check will not accompany this assignment.</i>"
   ]
  },
  {
   "cell_type": "code",
   "execution_count": null,
   "metadata": {
    "nbgrader": {
     "grade": false,
     "grade_id": "cell-plotdata",
     "locked": true,
     "schema_version": 1,
     "solution": false,
     "task": false
    }
   },
   "outputs": [],
   "source": [
    "# FILL IN THE MISSING CODE BELOW\n",
    "\n",
    "plt.figure(figsize=(8,8))\n",
    "plt.scatter(data[:,___], data[:,___], s=3, c='r')\n"
   ]
  },
  {
   "cell_type": "markdown",
   "metadata": {
    "nbgrader": {
     "grade": false,
     "grade_id": "cell-4f1abf35c9968196",
     "locked": true,
     "schema_version": 3,
     "solution": false,
     "task": false
    }
   },
   "source": [
    "Aha!  That's what the data represents! (Your plot should reveal the Cornell logo.  If it doesn't go back and fix your plotting commands above until it does.)\n",
    "\n",
    "\n",
    "For what it's worth, the file ```data.txt``` was generated by processing a low-resolution jpeg image of the Cornell logo.  Images are built up out of raster data, which are essentially one or more two-dimensional arrays describing the intensity of pixels in the image.  Several image processing packages are available to convert images to numpy arrays."
   ]
  },
  {
   "cell_type": "markdown",
   "metadata": {
    "nbgrader": {
     "grade": false,
     "grade_id": "cell-31c7561d1ba5997c",
     "locked": true,
     "schema_version": 3,
     "solution": false,
     "task": false
    }
   },
   "source": [
    "We noted above that we can read and write files either from plain text files or binary files.  What are \"binary files\"?  \n",
    "\n",
    "They are files in which data are packed in as a sequence of bytes (1 byte = 8 bits), rather than encoded as text characters.  The data are packed in some specified format, which means that they can hold data, images, computer programs, etc.  But in order to unpack a binary file, you need to know what the format is, i.e., how the data were packed in the first place.\n",
    "\n",
    "NumPy provides the functions ```loadtxt``` and ```savetxt``` for loading (reading) and saving (writing) arrays encoded in plain text files.  Similarly, it provides the functions ```load``` and ```save``` for reading and writing arrays in a specific binary format, the so-called NumPy ```.npy``` format.  The advantage of saving files to binary format is that the data are stored to full precision, along with information about their dtype, and binary files can be smaller than a text file encoding the same data.  The disadvantage of using binary files is that they are less portable to other programming environments; while NumPy knows how to load a .npy file that has been saved, that might not be the case for other libraries or languages.\n",
    "\n",
    "### Step 10.\n",
    "\n",
    "In the code cell below, use ```np.save``` to save the ```data``` array to a new file named ```logo.npy```.\n",
    "Consult the <a href='https://numpy.org/doc/stable/reference/generated/numpy.save.html'>online documentation</a> for more information on how to use `np.save`."
   ]
  },
  {
   "cell_type": "code",
   "execution_count": null,
   "metadata": {
    "nbgrader": {
     "grade": false,
     "grade_id": "cell-450d42a64f2a0fa4",
     "locked": true,
     "schema_version": 3,
     "solution": false,
     "task": false
    }
   },
   "outputs": [],
   "source": []
  },
  {
   "cell_type": "markdown",
   "metadata": {
    "nbgrader": {
     "grade": false,
     "grade_id": "cell-1dff7ac0928c6430",
     "locked": true,
     "schema_version": 3,
     "solution": false,
     "task": false
    }
   },
   "source": [
    "Just because the new file ```logo.npy``` is in binary format doesn't mean we can't look at it, although the results of such a process are not especially meaningful.\n",
    "\n",
    "### Step 11.\n",
    "\n",
    "Use the ```head``` command used in Step 2 to look at the first few lines of ```logo.npy```.  You should notice that there is some legible metadata encoded with text characters at the top of the file, describing, for example, the shape of the array and its dtype ('<i8' is equivalent to 'int64').  All of the illegible stuff that follows is due to the fact that the binary data describing the array values are being interpreted as text and/or control characters rather than the 64-bit integers (int64) that they actually are. "
   ]
  },
  {
   "cell_type": "code",
   "execution_count": null,
   "metadata": {
    "nbgrader": {
     "grade": false,
     "grade_id": "cell-dc4295c6d6e7082a",
     "locked": true,
     "schema_version": 3,
     "solution": false,
     "task": false
    }
   },
   "outputs": [],
   "source": []
  },
  {
   "cell_type": "markdown",
   "metadata": {
    "nbgrader": {
     "grade": false,
     "grade_id": "cell-d3b5ffecff70eb59",
     "locked": true,
     "schema_version": 3,
     "solution": false,
     "task": false
    }
   },
   "source": [
    "If you're interested, you could read the data in the logo file back in with a call to ```np.load('logo.npy')```.  Since the binary file stores information about the dtype of the data in the array, you don't need to pass in a dtype option to ```np.load``` in the manner that we did with ```np.loadtxt```.\n",
    "\n",
    "Even though the visual representation of the logo.npy file is mostly gibberish, the size of the file is perfectly predictable.  Let's revisit our original ```!ls``` command, along with an additional option to get more information about the file.\n",
    "\n",
    "Evaluate the code cell below."
   ]
  },
  {
   "cell_type": "code",
   "execution_count": null,
   "metadata": {
    "nbgrader": {
     "grade": false,
     "grade_id": "cell-46932aaa412b61a4",
     "locked": true,
     "schema_version": 3,
     "solution": false,
     "task": false
    }
   },
   "outputs": [],
   "source": [
    "!ls -l"
   ]
  },
  {
   "cell_type": "markdown",
   "metadata": {
    "nbgrader": {
     "grade": false,
     "grade_id": "cell-391a9a0c04eccc64",
     "locked": true,
     "schema_version": 3,
     "solution": false,
     "task": false
    }
   },
   "source": [
    "We can see that the listing for logo.npy indicates its file size is 57232 bytes.  The metadata header at the top of the file (describing the dtype, shape, ordering, etc.) takes up 128 bytes.  That means the binary gibberish that follows takes up 57232-128 = 57104 bytes.  Let's think about the data that we packed into the file.  There are 3569 rows and 2 columns per row, and each element in the array is a 64-bit integer.  Since 8 bits = 1 byte, that means each element of the array requires 8 bytes to specify.  So the total amount of memory required to store the array is:\n",
    "\n",
    "3569 rows x 2 columns per row x 8 bytes per element, or\n",
    "\n",
    "3569 * 2 * 8\n",
    "\n",
    "which equals 57104 (as can be verified by executing the cell below):"
   ]
  },
  {
   "cell_type": "code",
   "execution_count": null,
   "metadata": {
    "nbgrader": {
     "grade": false,
     "grade_id": "cell-e5eeb9071110eaef",
     "locked": true,
     "schema_version": 3,
     "solution": false,
     "task": false
    }
   },
   "outputs": [],
   "source": [
    "3569 * 2 * 8"
   ]
  }
 ],
 "metadata": {
  "kernelspec": {
   "display_name": "Python 3",
   "language": "python",
   "name": "python3"
  },
  "language_info": {
   "codemirror_mode": {
    "name": "ipython",
    "version": 3
   },
   "file_extension": ".py",
   "mimetype": "text/x-python",
   "name": "python",
   "nbconvert_exporter": "python",
   "pygments_lexer": "ipython3",
   "version": "3.6.7"
  }
 },
 "nbformat": 4,
 "nbformat_minor": 2
}
